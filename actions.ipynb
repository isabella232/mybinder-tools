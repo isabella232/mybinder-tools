{
 "cells": [
  {
   "cell_type": "markdown",
   "metadata": {},
   "source": [
    "# Load data"
   ]
  },
  {
   "cell_type": "code",
   "execution_count": 3,
   "metadata": {},
   "outputs": [],
   "source": [
    "from kubetools import get_all, delete, top, get_gcloud_node_info\n",
    "from subprocess import check_output\n",
    "import pandas as pd\n",
    "\n",
    "# Grab all pods + pod resources information, merge into one df\n",
    "df_top = top('pod')\n",
    "df_get = get_all('pod')\n",
    "df = pd.merge(df_top, df_get, on='name', how='outer')\n",
    "\n",
    "# Convert age to hours and sort\n",
    "df['age'] /= 60.0\n",
    "df = df.sort_values(['age', 'cpu'], ascending=False)\n",
    "\n",
    "# Determine if this is a user/prod/etc pod\n",
    "df['kind'] = df['name'].map(lambda a: a.split('-')[0])\n",
    "\n",
    "df['restarts'] = pd.to_numeric(df['restarts'])\n",
    "\n",
    "# Grab node information from both kubectl and gcloud\n",
    "nodes = get_all('node')\n",
    "nodes_gcloud = get_gcloud_node_info().rename(columns={'external_ip': 'external-ip', 'status': 'status_gcloud'})\n",
    "nodes = pd.merge(nodes, nodes_gcloud, on=['name', 'external-ip'])\n",
    "nodes = nodes[['name', 'internal_ip', 'external-ip', 'status', 'roles', 'age', 'version', 'os-image',\n",
    "               'kernel-version', 'container-runtime', 'zone', 'machine_type', 'status_gcloud']]"
   ]
  },
  {
   "cell_type": "markdown",
   "metadata": {},
   "source": [
    "# Pod management"
   ]
  },
  {
   "cell_type": "markdown",
   "metadata": {},
   "source": [
    "## Deleting pods by query"
   ]
  },
  {
   "cell_type": "code",
   "execution_count": null,
   "metadata": {},
   "outputs": [],
   "source": [
    "# Remove pods in error state\n",
    "# q = 'status in [\"Completed\", \"Error\", \"Evicted\"]'\n",
    "\n",
    "# Delete non-user pods on a node\n",
    "node = \"gke-prod-a-ssd-pool-32-134a959a-5mpp\"\n",
    "q = 'fullnode == \"{}\" and kind not in [\"jupyter\", \"build\"]'.format(node)\n",
    "\n",
    "delete_pods = df.query(q)\n",
    "print(len(delete_pods))\n",
    "delete_pods"
   ]
  },
  {
   "cell_type": "code",
   "execution_count": 6,
   "metadata": {},
   "outputs": [
    {
     "name": "stdout",
     "output_type": "stream",
     "text": [
      "Deleted pod: build-kmader-2dquantitative-2dbig-2dimaging-2d201-50d2b9-9cf0fc\n",
      "Deleted pod: build-samuelwiqvist-2dabc-d431fa-047180\n",
      "Deleted pod: prod-nginx-ingress-controller-7b4fdbdcc8-b2k9v\n"
     ]
    }
   ],
   "source": [
    "for nm in delete_pods['name'].values:\n",
    "    delete(nm, force=True)"
   ]
  },
  {
   "cell_type": "markdown",
   "metadata": {},
   "source": [
    "## Delete a specific pod"
   ]
  },
  {
   "cell_type": "code",
   "execution_count": 5,
   "metadata": {},
   "outputs": [
    {
     "name": "stdout",
     "output_type": "stream",
     "text": [
      "Deleted pod: binder-5b8b4479cb-gzkq8\n"
     ]
    }
   ],
   "source": [
    "nm = 'binder-5b8b4479cb-gzkq8'\n",
    "delete(nm)"
   ]
  },
  {
   "cell_type": "markdown",
   "metadata": {},
   "source": [
    "# Node management"
   ]
  },
  {
   "cell_type": "markdown",
   "metadata": {},
   "source": [
    "## Cordon node"
   ]
  },
  {
   "cell_type": "code",
   "execution_count": 1,
   "metadata": {},
   "outputs": [
    {
     "name": "stdout",
     "output_type": "stream",
     "text": [
      "node \"gke-prod-a-ssd-pool-32-134a959a-qvdt\" cordoned\n"
     ]
    }
   ],
   "source": [
    "!kubectl cordon gke-prod-a-ssd-pool-32-134a959a-qvdt"
   ]
  },
  {
   "cell_type": "code",
   "execution_count": 2,
   "metadata": {},
   "outputs": [
    {
     "name": "stdout",
     "output_type": "stream",
     "text": [
      "node \"gke-prod-a-ssd-pool-32-134a959a-5mpp\" uncordoned\n"
     ]
    }
   ],
   "source": [
    "!kubectl uncordon gke-prod-a-ssd-pool-32-134a959a-5mpp"
   ]
  },
  {
   "cell_type": "markdown",
   "metadata": {},
   "source": [
    "## Drain a node"
   ]
  },
  {
   "cell_type": "code",
   "execution_count": null,
   "metadata": {},
   "outputs": [],
   "source": [
    "! kubectl drain --force --delete-local-data --ignore-daemonsets --grace-period=0 gke-prod-a-ssd-pool-32-134a959a-s2pn"
   ]
  },
  {
   "cell_type": "code",
   "execution_count": null,
   "metadata": {},
   "outputs": [],
   "source": [
    "df.query('node ==')"
   ]
  },
  {
   "cell_type": "markdown",
   "metadata": {},
   "source": [
    "## Delete node"
   ]
  },
  {
   "cell_type": "code",
   "execution_count": 12,
   "metadata": {},
   "outputs": [
    {
     "data": {
      "text/plain": [
       "b'node \"gke-prod-a-ssd-pool-32-134a959a-tvpp\" deleted\\n'"
      ]
     },
     "execution_count": 12,
     "metadata": {},
     "output_type": "execute_result"
    }
   ],
   "source": [
    "!kubectl delete node gke-prod-a-ssd-pool-32-134a959a-s2pn"
   ]
  }
 ],
 "metadata": {
  "kernelspec": {
   "display_name": "Python 3",
   "language": "python",
   "name": "python3"
  },
  "language_info": {
   "codemirror_mode": {
    "name": "ipython",
    "version": 3
   },
   "file_extension": ".py",
   "mimetype": "text/x-python",
   "name": "python",
   "nbconvert_exporter": "python",
   "pygments_lexer": "ipython3",
   "version": "3.5.4"
  }
 },
 "nbformat": 4,
 "nbformat_minor": 2
}
